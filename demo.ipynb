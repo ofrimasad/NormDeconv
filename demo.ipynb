{
 "cells": [
  {
   "cell_type": "markdown",
   "source": [
    "# Solving The Checkerboard Artifacts In Image Deconvolution\n",
    "This notebook demonstrate the NormConvTranspose2d implementation and the results of the EDSR and WDSR\n",
    "networks which were trained using this new approach\n",
    "\n",
    "Start by installing all dependencies (if your env contain the required dependencies, skip this part)"
   ],
   "metadata": {
    "collapsed": false
   }
  },
  {
   "cell_type": "code",
   "execution_count": 12,
   "outputs": [
    {
     "name": "stdout",
     "output_type": "stream",
     "text": [
      "Requirement already satisfied: tensorboard==2.2.0 in /opt/miniconda3/envs/lambda/lib/python3.6/site-packages (from -r requirements.txt (line 1)) (2.2.0)\r\n",
      "Collecting numpy==1.17\r\n",
      "  Using cached numpy-1.17.0-cp36-cp36m-macosx_10_6_intel.macosx_10_9_intel.macosx_10_9_x86_64.macosx_10_10_intel.macosx_10_10_x86_64.whl (15.0 MB)\r\n",
      "Requirement already satisfied: h5py==2.10.0 in /opt/miniconda3/envs/lambda/lib/python3.6/site-packages (from -r requirements.txt (line 3)) (2.10.0)\r\n",
      "Requirement already satisfied: tqdm==4.38.0 in /opt/miniconda3/envs/lambda/lib/python3.6/site-packages (from -r requirements.txt (line 4)) (4.38.0)\r\n",
      "Collecting pillow==5.3.0\r\n",
      "  Using cached Pillow-5.3.0-cp36-cp36m-macosx_10_6_intel.macosx_10_9_intel.macosx_10_9_x86_64.macosx_10_10_intel.macosx_10_10_x86_64.whl (3.6 MB)\r\n",
      "Requirement already satisfied: future in /opt/miniconda3/envs/lambda/lib/python3.6/site-packages (from -r requirements.txt (line 6)) (0.18.2)\r\n",
      "Requirement already satisfied: requests<3,>=2.21.0 in /opt/miniconda3/envs/lambda/lib/python3.6/site-packages (from tensorboard==2.2.0->-r requirements.txt (line 1)) (2.24.0)\r\n",
      "Requirement already satisfied: six>=1.10.0 in /opt/miniconda3/envs/lambda/lib/python3.6/site-packages (from tensorboard==2.2.0->-r requirements.txt (line 1)) (1.15.0)\r\n",
      "Requirement already satisfied: google-auth-oauthlib<0.5,>=0.4.1 in /opt/miniconda3/envs/lambda/lib/python3.6/site-packages (from tensorboard==2.2.0->-r requirements.txt (line 1)) (0.4.1)\r\n",
      "Requirement already satisfied: grpcio>=1.24.3 in /opt/miniconda3/envs/lambda/lib/python3.6/site-packages (from tensorboard==2.2.0->-r requirements.txt (line 1)) (1.31.0)\r\n",
      "Requirement already satisfied: setuptools>=41.0.0 in /opt/miniconda3/envs/lambda/lib/python3.6/site-packages (from tensorboard==2.2.0->-r requirements.txt (line 1)) (49.6.0.post20200814)\r\n",
      "Requirement already satisfied: google-auth<2,>=1.6.3 in /opt/miniconda3/envs/lambda/lib/python3.6/site-packages (from tensorboard==2.2.0->-r requirements.txt (line 1)) (1.21.0)\r\n",
      "Requirement already satisfied: markdown>=2.6.8 in /opt/miniconda3/envs/lambda/lib/python3.6/site-packages (from tensorboard==2.2.0->-r requirements.txt (line 1)) (3.2.2)\r\n",
      "Requirement already satisfied: tensorboard-plugin-wit>=1.6.0 in /opt/miniconda3/envs/lambda/lib/python3.6/site-packages (from tensorboard==2.2.0->-r requirements.txt (line 1)) (1.7.0)\r\n",
      "Requirement already satisfied: wheel>=0.26; python_version >= \"3\" in /opt/miniconda3/envs/lambda/lib/python3.6/site-packages (from tensorboard==2.2.0->-r requirements.txt (line 1)) (0.34.2)\r\n",
      "Requirement already satisfied: protobuf>=3.6.0 in /opt/miniconda3/envs/lambda/lib/python3.6/site-packages (from tensorboard==2.2.0->-r requirements.txt (line 1)) (3.13.0)\r\n",
      "Requirement already satisfied: werkzeug>=0.11.15 in /opt/miniconda3/envs/lambda/lib/python3.6/site-packages (from tensorboard==2.2.0->-r requirements.txt (line 1)) (1.0.1)\r\n",
      "Requirement already satisfied: absl-py>=0.4 in /opt/miniconda3/envs/lambda/lib/python3.6/site-packages (from tensorboard==2.2.0->-r requirements.txt (line 1)) (0.10.0)\r\n",
      "Requirement already satisfied: chardet<4,>=3.0.2 in /opt/miniconda3/envs/lambda/lib/python3.6/site-packages (from requests<3,>=2.21.0->tensorboard==2.2.0->-r requirements.txt (line 1)) (3.0.4)\r\n",
      "Requirement already satisfied: urllib3!=1.25.0,!=1.25.1,<1.26,>=1.21.1 in /opt/miniconda3/envs/lambda/lib/python3.6/site-packages (from requests<3,>=2.21.0->tensorboard==2.2.0->-r requirements.txt (line 1)) (1.25.10)\r\n",
      "Requirement already satisfied: certifi>=2017.4.17 in /opt/miniconda3/envs/lambda/lib/python3.6/site-packages (from requests<3,>=2.21.0->tensorboard==2.2.0->-r requirements.txt (line 1)) (2020.6.20)\r\n",
      "Requirement already satisfied: idna<3,>=2.5 in /opt/miniconda3/envs/lambda/lib/python3.6/site-packages (from requests<3,>=2.21.0->tensorboard==2.2.0->-r requirements.txt (line 1)) (2.10)\r\n",
      "Requirement already satisfied: requests-oauthlib>=0.7.0 in /opt/miniconda3/envs/lambda/lib/python3.6/site-packages (from google-auth-oauthlib<0.5,>=0.4.1->tensorboard==2.2.0->-r requirements.txt (line 1)) (1.3.0)\r\n",
      "Requirement already satisfied: cachetools<5.0,>=2.0.0 in /opt/miniconda3/envs/lambda/lib/python3.6/site-packages (from google-auth<2,>=1.6.3->tensorboard==2.2.0->-r requirements.txt (line 1)) (4.1.1)\r\n",
      "Requirement already satisfied: rsa<5,>=3.1.4; python_version >= \"3.5\" in /opt/miniconda3/envs/lambda/lib/python3.6/site-packages (from google-auth<2,>=1.6.3->tensorboard==2.2.0->-r requirements.txt (line 1)) (4.6)\r\n",
      "Requirement already satisfied: pyasn1-modules>=0.2.1 in /opt/miniconda3/envs/lambda/lib/python3.6/site-packages (from google-auth<2,>=1.6.3->tensorboard==2.2.0->-r requirements.txt (line 1)) (0.2.8)\r\n",
      "Requirement already satisfied: importlib-metadata; python_version < \"3.8\" in /opt/miniconda3/envs/lambda/lib/python3.6/site-packages (from markdown>=2.6.8->tensorboard==2.2.0->-r requirements.txt (line 1)) (1.7.0)\r\n",
      "Requirement already satisfied: oauthlib>=3.0.0 in /opt/miniconda3/envs/lambda/lib/python3.6/site-packages (from requests-oauthlib>=0.7.0->google-auth-oauthlib<0.5,>=0.4.1->tensorboard==2.2.0->-r requirements.txt (line 1)) (3.1.0)\r\n",
      "Requirement already satisfied: pyasn1>=0.1.3 in /opt/miniconda3/envs/lambda/lib/python3.6/site-packages (from rsa<5,>=3.1.4; python_version >= \"3.5\"->google-auth<2,>=1.6.3->tensorboard==2.2.0->-r requirements.txt (line 1)) (0.4.8)\r\n",
      "Requirement already satisfied: zipp>=0.5 in /opt/miniconda3/envs/lambda/lib/python3.6/site-packages (from importlib-metadata; python_version < \"3.8\"->markdown>=2.6.8->tensorboard==2.2.0->-r requirements.txt (line 1)) (3.1.0)\r\n",
      "\u001B[31mERROR: Error while checking for conflicts. Please file an issue on pip's issue tracker: https://github.com/pypa/pip/issues/new\r\n",
      "Traceback (most recent call last):\r\n",
      "  File \"/opt/miniconda3/envs/lambda/lib/python3.6/site-packages/pip/_vendor/pkg_resources/__init__.py\", line 3021, in _dep_map\r\n",
      "    return self.__dep_map\r\n",
      "  File \"/opt/miniconda3/envs/lambda/lib/python3.6/site-packages/pip/_vendor/pkg_resources/__init__.py\", line 2815, in __getattr__\r\n",
      "    raise AttributeError(attr)\r\n",
      "AttributeError: _DistInfoDistribution__dep_map\r\n",
      "\r\n",
      "During handling of the above exception, another exception occurred:\r\n",
      "\r\n",
      "Traceback (most recent call last):\r\n",
      "  File \"/opt/miniconda3/envs/lambda/lib/python3.6/site-packages/pip/_vendor/pkg_resources/__init__.py\", line 3012, in _parsed_pkg_info\r\n",
      "    return self._pkg_info\r\n",
      "  File \"/opt/miniconda3/envs/lambda/lib/python3.6/site-packages/pip/_vendor/pkg_resources/__init__.py\", line 2815, in __getattr__\r\n",
      "    raise AttributeError(attr)\r\n",
      "AttributeError: _pkg_info\r\n",
      "\r\n",
      "During handling of the above exception, another exception occurred:\r\n",
      "\r\n",
      "Traceback (most recent call last):\r\n",
      "  File \"/opt/miniconda3/envs/lambda/lib/python3.6/site-packages/pip/_internal/commands/install.py\", line 535, in _determine_conflicts\r\n",
      "    return check_install_conflicts(to_install)\r\n",
      "  File \"/opt/miniconda3/envs/lambda/lib/python3.6/site-packages/pip/_internal/operations/check.py\", line 108, in check_install_conflicts\r\n",
      "    package_set, _ = create_package_set_from_installed()\r\n",
      "  File \"/opt/miniconda3/envs/lambda/lib/python3.6/site-packages/pip/_internal/operations/check.py\", line 50, in create_package_set_from_installed\r\n",
      "    package_set[name] = PackageDetails(dist.version, dist.requires())\r\n",
      "  File \"/opt/miniconda3/envs/lambda/lib/python3.6/site-packages/pip/_vendor/pkg_resources/__init__.py\", line 2736, in requires\r\n",
      "    dm = self._dep_map\r\n",
      "  File \"/opt/miniconda3/envs/lambda/lib/python3.6/site-packages/pip/_vendor/pkg_resources/__init__.py\", line 3023, in _dep_map\r\n",
      "    self.__dep_map = self._compute_dependencies()\r\n",
      "  File \"/opt/miniconda3/envs/lambda/lib/python3.6/site-packages/pip/_vendor/pkg_resources/__init__.py\", line 3032, in _compute_dependencies\r\n",
      "    for req in self._parsed_pkg_info.get_all('Requires-Dist') or []:\r\n",
      "  File \"/opt/miniconda3/envs/lambda/lib/python3.6/site-packages/pip/_vendor/pkg_resources/__init__.py\", line 3014, in _parsed_pkg_info\r\n",
      "    metadata = self.get_metadata(self.PKG_INFO)\r\n",
      "  File \"/opt/miniconda3/envs/lambda/lib/python3.6/site-packages/pip/_vendor/pkg_resources/__init__.py\", line 1420, in get_metadata\r\n",
      "    value = self._get(path)\r\n",
      "  File \"/opt/miniconda3/envs/lambda/lib/python3.6/site-packages/pip/_vendor/pkg_resources/__init__.py\", line 1616, in _get\r\n",
      "    with open(path, 'rb') as stream:\r\n",
      "FileNotFoundError: [Errno 2] No such file or directory: '/opt/miniconda3/envs/lambda/lib/python3.6/site-packages/Pillow-7.2.0.dist-info/METADATA'\u001B[0m\r\n",
      "Installing collected packages: numpy, pillow\r\n",
      "\u001B[33m  WARNING: The scripts f2py, f2py3 and f2py3.6 are installed in '/Users/ofrimasad/.local/bin' which is not on PATH.\r\n",
      "  Consider adding this directory to PATH or, if you prefer to suppress this warning, use --no-warn-script-location.\u001B[0m\r\n",
      "Successfully installed numpy-1.17.0 pillow-5.3.0\r\n",
      "Requirement already satisfied: torch in /opt/miniconda3/envs/lambda/lib/python3.6/site-packages (1.3.1)\r\n",
      "Requirement already satisfied: numpy in /Users/ofrimasad/.local/lib/python3.6/site-packages (from torch) (1.17.0)\r\n",
      "Requirement already satisfied: matplotlib in /opt/miniconda3/envs/lambda/lib/python3.6/site-packages (3.3.1)\r\n",
      "Requirement already satisfied: numpy>=1.15 in /Users/ofrimasad/.local/lib/python3.6/site-packages (from matplotlib) (1.17.0)\r\n",
      "Requirement already satisfied: certifi>=2020.06.20 in /opt/miniconda3/envs/lambda/lib/python3.6/site-packages (from matplotlib) (2020.6.20)\r\n",
      "Requirement already satisfied: pyparsing!=2.0.4,!=2.1.2,!=2.1.6,>=2.0.3 in /opt/miniconda3/envs/lambda/lib/python3.6/site-packages (from matplotlib) (2.4.7)\r\n",
      "Requirement already satisfied: kiwisolver>=1.0.1 in /opt/miniconda3/envs/lambda/lib/python3.6/site-packages (from matplotlib) (1.2.0)\r\n",
      "Requirement already satisfied: python-dateutil>=2.1 in /opt/miniconda3/envs/lambda/lib/python3.6/site-packages (from matplotlib) (2.8.1)\r\n",
      "Requirement already satisfied: cycler>=0.10 in /opt/miniconda3/envs/lambda/lib/python3.6/site-packages (from matplotlib) (0.10.0)\r\n",
      "Collecting pillow>=6.2.0\r\n",
      "  Using cached Pillow-7.2.0-cp36-cp36m-macosx_10_10_x86_64.whl (2.2 MB)\r\n",
      "Requirement already satisfied: six>=1.5 in /opt/miniconda3/envs/lambda/lib/python3.6/site-packages (from python-dateutil>=2.1->matplotlib) (1.15.0)\r\n",
      "Installing collected packages: pillow\r\n",
      "  Attempting uninstall: pillow\r\n",
      "    Found existing installation: Pillow 5.3.0\r\n",
      "    Uninstalling Pillow-5.3.0:\r\n",
      "      Successfully uninstalled Pillow-5.3.0\r\n",
      "Successfully installed pillow-7.2.0\r\n"
     ]
    }
   ],
   "source": [
    "from argparse import Namespace\n",
    "!pip3 install -r requirements.txt --user\n",
    "!pip3 install torch --user\n",
    "!pip3 install matplotlib --user"
   ],
   "metadata": {
    "collapsed": false,
    "pycharm": {
     "name": "#%%\n"
    }
   }
  },
  {
   "cell_type": "markdown",
   "source": [
    "and we import the required libs"
   ],
   "metadata": {
    "collapsed": false,
    "pycharm": {
     "name": "#%% md\n"
    }
   }
  },
  {
   "cell_type": "code",
   "execution_count": 3,
   "outputs": [],
   "source": [
    "import numpy as np\n",
    "from torch import nn\n",
    "import torch\n",
    "import matplotlib.pyplot as plt"
   ],
   "metadata": {
    "collapsed": false,
    "pycharm": {
     "name": "#%%\n"
    }
   }
  },
  {
   "cell_type": "markdown",
   "source": [
    "We will start with a simple demonstration of the normalization of the deconvolution.\n",
    "We define two deconvolutions:\n",
    " - one using nn.ConvTranspose2d implementation\n",
    " - one using our own implementation - NormConvTranspose2d\n",
    "\n",
    "We initialize both with the same wights and bias in order to be able to properly compare them.\n",
    "We initialize with a flat value convolution and bias 0"
   ],
   "metadata": {
    "collapsed": false,
    "pycharm": {
     "name": "#%% md\n"
    }
   }
  },
  {
   "cell_type": "code",
   "execution_count": 4,
   "outputs": [
    {
     "data": {
      "text/plain": "tensor([0., 0., 0.])"
     },
     "execution_count": 4,
     "metadata": {},
     "output_type": "execute_result"
    }
   ],
   "source": [
    "from core.model.NormConvTranspose2d import NormConvTranspose2d\n",
    "\n",
    "deconv = nn.ConvTranspose2d(3, 3, kernel_size=5, stride=4, padding=2, output_padding=3)\n",
    "norm_deconv = NormConvTranspose2d(3, 3, kernel_size=5, stride=4, padding=2, output_padding=3)\n",
    "\n",
    "deconv.weight.data.fill_(0.4)\n",
    "norm_deconv.weight.data.fill_(0.4)\n",
    "deconv.bias.data.fill_(0)\n",
    "norm_deconv.bias.data.fill_(0)\n"
   ],
   "metadata": {
    "collapsed": false,
    "pycharm": {
     "name": "#%%\n"
    }
   }
  },
  {
   "cell_type": "markdown",
   "source": [
    "For this experiment, the deconv will run over a 20x20x3 homogeneous color image\n",
    "\n",
    "\n"
   ],
   "metadata": {
    "collapsed": false,
    "pycharm": {
     "name": "#%% md\n"
    }
   }
  },
  {
   "cell_type": "code",
   "execution_count": 5,
   "outputs": [
    {
     "data": {
      "text/plain": "<matplotlib.image.AxesImage at 0x1290c5128>"
     },
     "execution_count": 5,
     "metadata": {},
     "output_type": "execute_result"
    },
    {
     "data": {
      "text/plain": "<Figure size 432x288 with 1 Axes>",
      "image/png": "[encoded data removed]"
     },
     "metadata": {
      "needs_background": "light"
     },
     "output_type": "display_data"
    }
   ],
   "source": [
    "img = torch.zeros((1, 3,20,20))\n",
    "img[0][0] = 0.8\n",
    "img[0][1] = 0.5\n",
    "img[0][2] = 0.2\n",
    "\n",
    "plt.imshow(img.squeeze().permute(1, 2, 0))"
   ],
   "metadata": {
    "collapsed": false,
    "pycharm": {
     "name": "#%%\n"
    }
   }
  },
  {
   "cell_type": "code",
   "execution_count": 6,
   "outputs": [
    {
     "name": "stderr",
     "output_type": "stream",
     "text": [
      "Clipping input data to the valid range for imshow with RGB data ([0..1] for floats or [0..255] for integers).\n"
     ]
    },
    {
     "data": {
      "text/plain": "<matplotlib.image.AxesImage at 0x12921aa90>"
     },
     "execution_count": 6,
     "metadata": {},
     "output_type": "execute_result"
    },
    {
     "data": {
      "text/plain": "<Figure size 432x288 with 2 Axes>",
      "image/png": "[encoded data removed]"
     },
     "metadata": {},
     "output_type": "display_data"
    }
   ],
   "source": [
    "%matplotlib inline\n",
    "plt.style.use('seaborn-white')\n",
    "\n",
    "fig, ax = plt.subplots(1, 2, sharex='col', sharey='row')\n",
    "res_deconv = deconv(img)\n",
    "res_norm_deconv = norm_deconv(img)\n",
    "ax[0].imshow(res_deconv.squeeze().permute(1, 2, 0).detach())\n",
    "ax[1].imshow(res_norm_deconv.squeeze().permute(1, 2, 0).detach())\n"
   ],
   "metadata": {
    "collapsed": false,
    "pycharm": {
     "name": "#%%\n"
    }
   }
  },
  {
   "cell_type": "markdown",
   "source": [
    "it is easy to see.... bla bla\n",
    "\n",
    "#EDSR Model\n",
    "\n",
    "We have implemented and trained the EDSR and WDSR models with Deconvolution and Normalized Deconvolution.\n",
    "The results are brought in the paper and the github repository.\n",
    "The pretrained models are available on S3.\n",
    "\n",
    "To run an evaluation test, download an EDSR model file and place it in you local drive."
   ],
   "metadata": {
    "collapsed": false,
    "pycharm": {
     "name": "#%% md\n"
    }
   }
  },
  {
   "cell_type": "code",
   "execution_count": 14,
   "outputs": [
    {
     "name": "stdout",
     "output_type": "stream",
     "text": [
      "/Users/ofrimasad/PycharmProjects/NormDeconv\r\n",
      "Requirement already satisfied: tqdm in /opt/miniconda3/envs/lambda/lib/python3.6/site-packages (4.38.0)\r\n",
      "zsh:1: command not found: wget\r\n"
     ]
    }
   ],
   "source": [
    "!wget s3://deconv-pretrained/EDSR-Norm-Deconv-f128-b32-r4-x4-new-best.pth.tar .\n"
   ],
   "metadata": {
    "collapsed": false,
    "pycharm": {
     "name": "#%%\n"
    }
   }
  },
  {
   "cell_type": "code",
   "execution_count": 15,
   "outputs": [
    {
     "ename": "ModuleNotFoundError",
     "evalue": "No module named 'tqdm'",
     "output_type": "error",
     "traceback": [
      "\u001B[0;31m---------------------------------------------------------------------------\u001B[0m",
      "\u001B[0;31mModuleNotFoundError\u001B[0m                       Traceback (most recent call last)",
      "\u001B[0;32m<ipython-input-15-9f95e8e5a9d7>\u001B[0m in \u001B[0;36m<module>\u001B[0;34m\u001B[0m\n\u001B[1;32m      1\u001B[0m \u001B[0;32mfrom\u001B[0m \u001B[0mcore\u001B[0m\u001B[0;34m.\u001B[0m\u001B[0mEDSR\u001B[0m\u001B[0;34m.\u001B[0m\u001B[0medsr\u001B[0m \u001B[0;32mimport\u001B[0m \u001B[0mEDSR\u001B[0m\u001B[0;34m\u001B[0m\u001B[0;34m\u001B[0m\u001B[0m\n\u001B[1;32m      2\u001B[0m \u001B[0;32mfrom\u001B[0m \u001B[0margparse\u001B[0m \u001B[0;32mimport\u001B[0m \u001B[0mNamespace\u001B[0m\u001B[0;34m\u001B[0m\u001B[0;34m\u001B[0m\u001B[0m\n\u001B[0;32m----> 3\u001B[0;31m \u001B[0;32mfrom\u001B[0m \u001B[0meval\u001B[0m \u001B[0;32mimport\u001B[0m \u001B[0mtest\u001B[0m\u001B[0;34m\u001B[0m\u001B[0;34m\u001B[0m\u001B[0m\n\u001B[0m\u001B[1;32m      4\u001B[0m \u001B[0;32mfrom\u001B[0m \u001B[0mcore\u001B[0m\u001B[0;34m.\u001B[0m\u001B[0mutils\u001B[0m \u001B[0;32mimport\u001B[0m \u001B[0;34m*\u001B[0m\u001B[0;34m\u001B[0m\u001B[0;34m\u001B[0m\u001B[0m\n\u001B[1;32m      5\u001B[0m \u001B[0;32mfrom\u001B[0m \u001B[0mcore\u001B[0m\u001B[0;34m.\u001B[0m\u001B[0mdata\u001B[0m\u001B[0;34m.\u001B[0m\u001B[0mdir_dataset\u001B[0m \u001B[0;32mimport\u001B[0m \u001B[0mDirDataSet\u001B[0m\u001B[0;34m\u001B[0m\u001B[0;34m\u001B[0m\u001B[0m\n",
      "\u001B[0;32m~/PycharmProjects/NormDeconv/eval.py\u001B[0m in \u001B[0;36m<module>\u001B[0;34m\u001B[0m\n\u001B[1;32m      1\u001B[0m \u001B[0;32mimport\u001B[0m \u001B[0mos\u001B[0m\u001B[0;34m\u001B[0m\u001B[0;34m\u001B[0m\u001B[0m\n\u001B[1;32m      2\u001B[0m \u001B[0;34m\u001B[0m\u001B[0m\n\u001B[0;32m----> 3\u001B[0;31m \u001B[0;32mfrom\u001B[0m \u001B[0mtqdm\u001B[0m \u001B[0;32mimport\u001B[0m \u001B[0mtqdm\u001B[0m\u001B[0;34m\u001B[0m\u001B[0;34m\u001B[0m\u001B[0m\n\u001B[0m\u001B[1;32m      4\u001B[0m \u001B[0;34m\u001B[0m\u001B[0m\n\u001B[1;32m      5\u001B[0m \u001B[0;32mimport\u001B[0m \u001B[0mtorch\u001B[0m\u001B[0;34m\u001B[0m\u001B[0;34m\u001B[0m\u001B[0m\n",
      "\u001B[0;31mModuleNotFoundError\u001B[0m: No module named 'tqdm'"
     ]
    }
   ],
   "source": [
    "from core.EDSR.edsr import EDSR\n",
    "from argparse import Namespace\n",
    "from eval import test\n",
    "from core.utils import *\n",
    "from core.data.dir_dataset import DirDataSet\n",
    "from torch.utils.data.dataloader import DataLoader\n",
    "\n",
    "\n",
    "args = Namespace(augment_patch=True, batch_size=16,\n",
    "                 checkpoint_file='./EDSR-Norm-Deconv-f128-b32-r4-x4-new-best.pth.tar',\n",
    "                 dataset_dir='data/div2k/', debug=False, deconv=True, epochs=300,\n",
    "                 expansion_ratio=4, iterations_per_epoch=1000, low_rank_ratio=0.8,\n",
    "                 lr=0.001, lr_decay_gamma=0.5, lr_decay_steps=200,\n",
    "                 model='EDSR-Norm-Deconv', n_feats=128, n_res_blocks=32, norm=True,\n",
    "                 num_workers=4, output_dir='images/results/',\n",
    "                 patch_size=96, res_scale=1.0, rgb_mean=[0.4488, 0.4371, 0.404],\n",
    "                 rgb_range=(0.0, 255.0), scale=4, seed=1, self_ensemble=False,\n",
    "                 subtract_mean=True)\n",
    "\n",
    "model = EDSR(args).to('cpu')\n",
    "\n",
    "# Load weights\n",
    "model = load_weights(model, load_checkpoint(args.checkpoint_file)['state_dict'])\n",
    "\n",
    "# Prepare dataset\n",
    "dataset = DirDataSet('images/sample')\n",
    "#dataset = DIV2K(args, train=False)\n",
    "dataloader = DataLoader(dataset=dataset, batch_size=1)\n",
    "\n",
    "test(dataset, dataloader, model, args, 'cpu')\n"
   ],
   "metadata": {
    "collapsed": false,
    "pycharm": {
     "name": "#%%\n"
    }
   }
  }
 ],
 "metadata": {
  "kernelspec": {
   "name": "python3",
   "language": "python",
   "display_name": "Python 3"
  },
  "language_info": {
   "codemirror_mode": {
    "name": "ipython",
    "version": 2
   },
   "file_extension": ".py",
   "mimetype": "text/x-python",
   "name": "python",
   "nbconvert_exporter": "python",
   "pygments_lexer": "ipython2",
   "version": "2.7.6"
  }
 },
 "nbformat": 4,
 "nbformat_minor": 0
}