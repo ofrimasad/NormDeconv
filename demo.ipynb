{
 "cells": [
  {
   "cell_type": "markdown",
   "metadata": {},
   "source": [
    "# Solving The Checkerboard Artifacts In Image Deconvolution\n",
    "This notebook demonstrate the NormConvTranspose2d implementation and the results of the EDSR and WDSR\n",
    "networks which were trained using this new approach\n",
    "\n",
    "Start by installing all dependencies (if your env contain the required dependencies, skip this part).\n",
    "This notebook relies on the project's code, so make sure it is available to your jupyter server."
   ]
  },
  {
   "cell_type": "code",
   "execution_count": 3,
   "metadata": {
    "jupyter": {
     "outputs_hidden": false
    },
    "pycharm": {
     "name": "#%%\n"
    }
   },
   "outputs": [],
   "source": [
    "!pip3 install torch --user -q\n",
    "!pip3 install matplotlib --user -q\n",
    "!pip3 install tqdm --user -q"
   ]
  },
  {
   "cell_type": "markdown",
   "metadata": {
    "pycharm": {
     "name": "#%% md\n"
    }
   },
   "source": [
    "Import the required libs"
   ]
  },
  {
   "cell_type": "code",
   "execution_count": 6,
   "metadata": {
    "jupyter": {
     "outputs_hidden": false
    },
    "pycharm": {
     "name": "#%%\n"
    }
   },
   "outputs": [
    {
     "name": "stdout",
     "output_type": "stream",
     "text": [
      "Package                Version\n",
      "---------------------- -------------------\n",
      "absl-py                0.10.0\n",
      "boto3                  1.14.47\n",
      "botocore               1.17.47\n",
      "brotlipy               0.7.0\n",
      "bson                   0.5.10\n",
      "cachetools             4.1.1\n",
      "certifi                2020.6.20\n",
      "cffi                   1.14.1\n",
      "chardet                3.0.4\n",
      "click                  7.1.2\n",
      "cryptography           2.9.2\n",
      "cycler                 0.10.0\n",
      "docutils               0.15.2\n",
      "Flask                  1.1.2\n",
      "future                 0.18.2\n",
      "google-auth            1.21.0\n",
      "google-auth-oauthlib   0.4.1\n",
      "grpcio                 1.31.0\n",
      "h5py                   2.10.0\n",
      "idna                   2.10\n",
      "importlib-metadata     1.7.0\n",
      "itsdangerous           1.1.0\n",
      "Jinja2                 2.11.2\n",
      "jmespath               0.10.0\n",
      "kiwisolver             1.2.0\n",
      "Markdown               3.2.2\n",
      "MarkupSafe             1.1.1\n",
      "matplotlib             3.3.1\n",
      "mkl-fft                1.1.0\n",
      "mkl-random             1.1.1\n",
      "mkl-service            2.3.0\n",
      "names                  0.3.0\n",
      "numpy                  1.17.0\n",
      "oauthlib               3.1.0\n",
      "olefile                0.46\n",
      "pandas                 1.1.0\n",
      "pandas-lite            0.1.2\n",
      "Pillow                 7.2.0\n",
      "pip                    20.2.2\n",
      "protobuf               3.13.0\n",
      "pyasn1                 0.4.8\n",
      "pyasn1-modules         0.2.8\n",
      "pycparser              2.20\n",
      "pyOpenSSL              19.1.0\n",
      "pyparsing              2.4.7\n",
      "PySocks                1.7.1\n",
      "python-dateutil        2.8.1\n",
      "pytz                   2020.1\n",
      "requests               2.24.0\n",
      "requests-oauthlib      1.3.0\n",
      "rsa                    4.6\n",
      "s3transfer             0.3.3\n",
      "setuptools             49.6.0.post20200814\n",
      "six                    1.15.0\n",
      "tensorboard            2.2.0\n",
      "tensorboard-plugin-wit 1.7.0\n",
      "torch                  1.3.1\n",
      "tornado                6.0.4\n",
      "tqdm                   4.48.2\n",
      "urllib3                1.25.10\n",
      "Werkzeug               1.0.1\n",
      "wget                   3.2\n",
      "wheel                  0.34.2\n",
      "zipp                   3.1.0\n"
     ]
    },
    {
     "ename": "ModuleNotFoundError",
     "evalue": "No module named 'tqdm'",
     "output_type": "error",
     "traceback": [
      "\u001B[0;31m---------------------------------------------------------------------------\u001B[0m",
      "\u001B[0;31mModuleNotFoundError\u001B[0m                       Traceback (most recent call last)",
      "\u001B[0;32m<ipython-input-6-ed656560dfd3>\u001B[0m in \u001B[0;36m<module>\u001B[0;34m\u001B[0m\n\u001B[1;32m      1\u001B[0m \u001B[0mget_ipython\u001B[0m\u001B[0;34m(\u001B[0m\u001B[0;34m)\u001B[0m\u001B[0;34m.\u001B[0m\u001B[0msystem\u001B[0m\u001B[0;34m(\u001B[0m\u001B[0;34m'pip3 list'\u001B[0m\u001B[0;34m)\u001B[0m\u001B[0;34m\u001B[0m\u001B[0;34m\u001B[0m\u001B[0m\n\u001B[0;32m----> 2\u001B[0;31m \u001B[0;32mimport\u001B[0m \u001B[0mtqdm\u001B[0m\u001B[0;34m\u001B[0m\u001B[0;34m\u001B[0m\u001B[0m\n\u001B[0m\u001B[1;32m      3\u001B[0m \u001B[0;32mimport\u001B[0m \u001B[0mnumpy\u001B[0m \u001B[0;32mas\u001B[0m \u001B[0mnp\u001B[0m\u001B[0;34m\u001B[0m\u001B[0;34m\u001B[0m\u001B[0m\n\u001B[1;32m      4\u001B[0m \u001B[0;32mfrom\u001B[0m \u001B[0mtorch\u001B[0m \u001B[0;32mimport\u001B[0m \u001B[0mnn\u001B[0m\u001B[0;34m\u001B[0m\u001B[0;34m\u001B[0m\u001B[0m\n\u001B[1;32m      5\u001B[0m \u001B[0;32mimport\u001B[0m \u001B[0mtorch\u001B[0m\u001B[0;34m\u001B[0m\u001B[0;34m\u001B[0m\u001B[0m\n",
      "\u001B[0;31mModuleNotFoundError\u001B[0m: No module named 'tqdm'"
     ]
    }
   ],
   "source": [
    "!pip3 list\n",
    "import tqdm\n",
    "import numpy as np\n",
    "from torch import nn\n",
    "import torch\n",
    "import matplotlib.pyplot as plt"
   ]
  },
  {
   "cell_type": "markdown",
   "metadata": {
    "pycharm": {
     "name": "#%% md\n"
    }
   },
   "source": [
    "We will start with a simple demonstration of the normalization of the deconvolution.\n",
    "\n",
    "We define two deconvolutions layers:\n",
    " - one using nn.ConvTranspose2d implementation\n",
    " - one with our own implementation - NormConvTranspose2d\n",
    "\n",
    "We initialize both with the same weights and biases to be able to properly compare between them.\n",
    "We initialize with a flat value convolution and with bias 0."
   ]
  },
  {
   "cell_type": "code",
   "execution_count": 12,
   "metadata": {
    "jupyter": {
     "outputs_hidden": false
    },
    "pycharm": {
     "name": "#%%\n"
    }
   },
   "outputs": [
    {
     "data": {
      "text/plain": [
       "tensor([0., 0., 0.])"
      ]
     },
     "execution_count": 12,
     "metadata": {},
     "output_type": "execute_result"
    }
   ],
   "source": [
    "from core.model.NormConvTranspose2d import NormConvTranspose2d\n",
    "\n",
    "deconv = nn.ConvTranspose2d(3, 3, kernel_size=5, stride=4, padding=2, output_padding=3)\n",
    "norm_deconv = NormConvTranspose2d(3, 3, kernel_size=5, stride=4, padding=2, output_padding=3)\n",
    "\n",
    "deconv.weight.data.fill_(0.4)\n",
    "norm_deconv.weight.data.fill_(0.4)\n",
    "deconv.bias.data.fill_(0)\n",
    "norm_deconv.bias.data.fill_(0)\n"
   ]
  },
  {
   "cell_type": "markdown",
   "metadata": {
    "pycharm": {
     "name": "#%% md\n"
    }
   },
   "source": [
    "For the following experiment demonstration, we convolve a 20x20x3 homogeneous color image with the two deconvolutions.<br>"
   ]
  },
  {
   "cell_type": "code",
   "execution_count": 13,
   "metadata": {
    "jupyter": {
     "outputs_hidden": false
    },
    "pycharm": {
     "name": "#%%\n"
    }
   },
   "outputs": [
    {
     "data": {
      "text/plain": [
       "<matplotlib.image.AxesImage at 0x130ee4908>"
      ]
     },
     "execution_count": 13,
     "metadata": {},
     "output_type": "execute_result"
    },
    {
     "data": {
      "image/png": "[encoded data removed]",
      "text/plain": [
       "<Figure size 432x288 with 1 Axes>"
      ]
     },
     "metadata": {},
     "output_type": "display_data"
    }
   ],
   "source": [
    "img = torch.zeros((1, 3,20,20))\n",
    "img[0][0] = 0.8\n",
    "img[0][1] = 0.5\n",
    "img[0][2] = 0.2\n",
    "\n",
    "plt.imshow(img.squeeze().permute(1, 2, 0))"
   ]
  },
  {
   "cell_type": "markdown",
   "metadata": {
    "pycharm": {
     "name": "#%% md\n"
    }
   },
   "source": [
    "We would expect to see checkerboard artifacts in the nn.ConvTranspose2d results.<br>\n",
    "In our NormConvTranspose2d, we would expect to see mitigated artifacts."
   ]
  },
  {
   "cell_type": "code",
   "execution_count": 14,
   "metadata": {
    "jupyter": {
     "outputs_hidden": false
    },
    "pycharm": {
     "name": "#%%\n"
    }
   },
   "outputs": [
    {
     "name": "stderr",
     "output_type": "stream",
     "text": [
      "Clipping input data to the valid range for imshow with RGB data ([0..1] for floats or [0..255] for integers).\n"
     ]
    },
    {
     "data": {
      "image/png": "[encoded data removed]",
      "text/plain": [
       "<Figure size 720x504 with 2 Axes>"
      ]
     },
     "metadata": {},
     "output_type": "display_data"
    }
   ],
   "source": [
    "%matplotlib inline\n",
    "plt.style.use('seaborn-white')\n",
    "\n",
    "fig, ax = plt.subplots(1, 2, sharex='col', sharey='row', figsize=[10, 7])\n",
    "res_deconv = deconv(img)\n",
    "res_norm_deconv = norm_deconv(img)\n",
    "ax[0].imshow(res_deconv.squeeze().permute(1, 2, 0).detach())\n",
    "ax[0].title.set_text(\"ConvTranspose2d\")\n",
    "ax[1].imshow(res_norm_deconv.squeeze().permute(1, 2, 0).detach())\n",
    "ax[1].title.set_text(\"NormConvTranspose2d\")"
   ]
  },
  {
   "cell_type": "markdown",
   "metadata": {
    "pycharm": {
     "name": "#%% md\n"
    }
   },
   "source": [
    "One can easily see, when comparing the results of ConvTranspose2d implementation with NormConvTranspose2d implementation that the checkerboard artifacts are mitigated.<br>\n",
    "This implies that notion of adding a normalization step is indeed beneficial.\n",
    "\n",
    "\n",
    "\n",
    "# EDSR Model\n",
    "\n",
    "We have implemented and trained the EDSR and WDSR models with Deconvolution and Normalized Deconvolution.<br>\n",
    "The results are also brought in the attached paper and the github repository.<br><br><br><br>\n",
    "## Results\n",
    "![Results](./images/result_examples.png)\n",
    "\n",
    "## Run the model\n",
    "The pretrained models are available on S3.<br>\n",
    "To run an evaluation test, please download an EDSR model file and place it in you local drive."
   ]
  },
  {
   "cell_type": "code",
   "execution_count": 15,
   "metadata": {
    "jupyter": {
     "outputs_hidden": false
    },
    "pycharm": {
     "name": "#%%\n"
    }
   },
   "outputs": [
    {
     "name": "stdout",
     "output_type": "stream",
     "text": [
      "zsh:1: command not found: wget\r\n"
     ]
    }
   ],
   "source": [
    "!wget s3://deconv-pretrained/EDSR-Norm-Deconv-f128-b32-r4-x4-new-best.pth.tar .\n"
   ]
  },
  {
   "cell_type": "markdown",
   "metadata": {},
   "source": [
    "Then, run the following cell:"
   ]
  },
  {
   "cell_type": "code",
   "execution_count": 16,
   "metadata": {
    "pycharm": {
     "name": "#%%\n"
    }
   },
   "outputs": [
    {
     "ename": "ModuleNotFoundError",
     "evalue": "No module named 'tqdm'",
     "output_type": "error",
     "traceback": [
      "\u001B[0;31m---------------------------------------------------------------------------\u001B[0m",
      "\u001B[0;31mModuleNotFoundError\u001B[0m                       Traceback (most recent call last)",
      "\u001B[0;32m<ipython-input-16-8f591446b6ef>\u001B[0m in \u001B[0;36m<module>\u001B[0;34m\u001B[0m\n\u001B[1;32m      1\u001B[0m \u001B[0;32mfrom\u001B[0m \u001B[0mcore\u001B[0m\u001B[0;34m.\u001B[0m\u001B[0mEDSR\u001B[0m\u001B[0;34m.\u001B[0m\u001B[0medsr\u001B[0m \u001B[0;32mimport\u001B[0m \u001B[0mEDSR\u001B[0m\u001B[0;34m\u001B[0m\u001B[0;34m\u001B[0m\u001B[0m\n\u001B[1;32m      2\u001B[0m \u001B[0;32mfrom\u001B[0m \u001B[0margparse\u001B[0m \u001B[0;32mimport\u001B[0m \u001B[0mNamespace\u001B[0m\u001B[0;34m\u001B[0m\u001B[0;34m\u001B[0m\u001B[0m\n\u001B[0;32m----> 3\u001B[0;31m \u001B[0;32mfrom\u001B[0m \u001B[0meval\u001B[0m \u001B[0;32mimport\u001B[0m \u001B[0mtest\u001B[0m\u001B[0;34m\u001B[0m\u001B[0;34m\u001B[0m\u001B[0m\n\u001B[0m\u001B[1;32m      4\u001B[0m \u001B[0;32mfrom\u001B[0m \u001B[0mcore\u001B[0m\u001B[0;34m.\u001B[0m\u001B[0mutils\u001B[0m \u001B[0;32mimport\u001B[0m \u001B[0;34m*\u001B[0m\u001B[0;34m\u001B[0m\u001B[0;34m\u001B[0m\u001B[0m\n\u001B[1;32m      5\u001B[0m \u001B[0;32mfrom\u001B[0m \u001B[0mcore\u001B[0m\u001B[0;34m.\u001B[0m\u001B[0mdata\u001B[0m\u001B[0;34m.\u001B[0m\u001B[0mdir_dataset\u001B[0m \u001B[0;32mimport\u001B[0m \u001B[0mDirDataSet\u001B[0m\u001B[0;34m\u001B[0m\u001B[0;34m\u001B[0m\u001B[0m\n",
      "\u001B[0;32m~/PycharmProjects/NormDeconv/eval.py\u001B[0m in \u001B[0;36m<module>\u001B[0;34m\u001B[0m\n\u001B[1;32m      1\u001B[0m \u001B[0;32mimport\u001B[0m \u001B[0mos\u001B[0m\u001B[0;34m\u001B[0m\u001B[0;34m\u001B[0m\u001B[0m\n\u001B[1;32m      2\u001B[0m \u001B[0;34m\u001B[0m\u001B[0m\n\u001B[0;32m----> 3\u001B[0;31m \u001B[0;32mfrom\u001B[0m \u001B[0mtqdm\u001B[0m \u001B[0;32mimport\u001B[0m \u001B[0mtqdm\u001B[0m\u001B[0;34m\u001B[0m\u001B[0;34m\u001B[0m\u001B[0m\n\u001B[0m\u001B[1;32m      4\u001B[0m \u001B[0;34m\u001B[0m\u001B[0m\n\u001B[1;32m      5\u001B[0m \u001B[0;32mimport\u001B[0m \u001B[0mtorch\u001B[0m\u001B[0;34m\u001B[0m\u001B[0;34m\u001B[0m\u001B[0m\n",
      "\u001B[0;31mModuleNotFoundError\u001B[0m: No module named 'tqdm'"
     ]
    }
   ],
   "source": [
    "from core.EDSR.edsr import EDSR\n",
    "from argparse import Namespace\n",
    "from eval import test\n",
    "from core.utils import *\n",
    "from core.data.dir_dataset import DirDataSet\n",
    "from torch.utils.data.dataloader import DataLoader\n",
    "\n",
    "\n",
    "args = Namespace(augment_patch=True, batch_size=16,\n",
    "                 checkpoint_file='./EDSR-Norm-Deconv-f128-b32-r4-x4-new-best.pth.tar',\n",
    "                 dataset_dir='data/div2k/', debug=False, deconv=True, epochs=300,\n",
    "                 expansion_ratio=4, iterations_per_epoch=1000, low_rank_ratio=0.8,\n",
    "                 lr=0.001, lr_decay_gamma=0.5, lr_decay_steps=200,\n",
    "                 model='EDSR-Norm-Deconv', n_feats=128, n_res_blocks=32, norm=True,\n",
    "                 num_workers=4, output_dir='images/results/',\n",
    "                 patch_size=96, res_scale=1.0, rgb_mean=[0.4488, 0.4371, 0.404],\n",
    "                 rgb_range=(0.0, 255.0), scale=4, seed=1, self_ensemble=False,\n",
    "                 subtract_mean=True)\n",
    "\n",
    "model = EDSR(args).to('cpu')\n",
    "\n",
    "# Load weights\n",
    "model = load_weights(model, load_checkpoint(args.checkpoint_file)['state_dict'])\n",
    "\n",
    "# Prepare dataset\n",
    "dataset = DirDataSet('images/sample')\n",
    "#dataset = DIV2K(args, train=False)\n",
    "dataloader = DataLoader(dataset=dataset, batch_size=1)\n",
    "\n",
    "test(dataset, dataloader, model, args, 'cpu')"
   ]
  },
  {
   "cell_type": "markdown",
   "metadata": {
    "pycharm": {
     "name": "#%% md\n"
    }
   },
   "source": [
    "\n"
   ]
  }
 ],
 "metadata": {
  "kernelspec": {
   "display_name": "Python 3",
   "language": "python",
   "name": "python3"
  },
  "language_info": {
   "codemirror_mode": {
    "name": "ipython",
    "version": 3
   },
   "file_extension": ".py",
   "mimetype": "text/x-python",
   "name": "python",
   "nbconvert_exporter": "python",
   "pygments_lexer": "ipython3",
   "version": "3.7.3"
  }
 },
 "nbformat": 4,
 "nbformat_minor": 4
}