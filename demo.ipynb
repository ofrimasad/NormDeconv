{
 "cells": [
  {
   "cell_type": "markdown",
   "metadata": {},
   "source": [
    "# Solving The Checkerboard Artifacts In Image Deconvolution\n",
    "This notebook demonstrate the NormConvTranspose2d implementation and the results of the EDSR and WDSR\n",
    "networks which were trained using this new approach\n",
    "\n",
    "Start by installing all dependencies (if your env contain the required dependencies, skip this part)"
   ]
  },
  {
   "cell_type": "code",
   "execution_count": 33,
   "metadata": {
    "collapsed": false,
    "jupyter": {
     "outputs_hidden": false
    },
    "pycharm": {
     "name": "#%%\n"
    }
   },
   "outputs": [
    {
     "name": "stdout",
     "output_type": "stream",
     "text": [
      "Collecting tensorboard==2.2.0\n",
      "  Using cached tensorboard-2.2.0-py3-none-any.whl (2.8 MB)\n",
      "Collecting numpy==1.17\n",
      "  Using cached numpy-1.17.0.zip (6.5 MB)\n",
      "Collecting h5py==2.10.0\n",
      "  Using cached h5py-2.10.0-cp38-cp38-macosx_10_9_x86_64.whl (3.0 MB)\n",
      "Collecting tqdm==4.38.0\n",
      "  Using cached tqdm-4.38.0-py2.py3-none-any.whl (53 kB)\n",
      "Collecting pillow==5.3.0\n",
      "  Using cached Pillow-5.3.0.tar.gz (15.6 MB)\n",
      "Requirement already satisfied: future in /Users/galrapo/Library/Python/3.8/lib/python/site-packages (from -r requirements.txt (line 6)) (0.16.0)\n",
      "Requirement already satisfied: six>=1.10.0 in /Users/galrapo/Library/Python/3.8/lib/python/site-packages (from tensorboard==2.2.0->-r requirements.txt (line 1)) (1.11.0)\n",
      "Requirement already satisfied: werkzeug>=0.11.15 in /Users/galrapo/Library/Python/3.8/lib/python/site-packages (from tensorboard==2.2.0->-r requirements.txt (line 1)) (1.0.1)\n",
      "Requirement already satisfied: requests<3,>=2.21.0 in /Users/galrapo/Library/Python/3.8/lib/python/site-packages (from tensorboard==2.2.0->-r requirements.txt (line 1)) (2.24.0)\n",
      "Requirement already satisfied: google-auth<2,>=1.6.3 in /Users/galrapo/Library/Python/3.8/lib/python/site-packages (from tensorboard==2.2.0->-r requirements.txt (line 1)) (1.21.0)\n",
      "Requirement already satisfied: tensorboard-plugin-wit>=1.6.0 in /Users/galrapo/Library/Python/3.8/lib/python/site-packages (from tensorboard==2.2.0->-r requirements.txt (line 1)) (1.7.0)\n",
      "Requirement already satisfied: absl-py>=0.4 in /Users/galrapo/Library/Python/3.8/lib/python/site-packages (from tensorboard==2.2.0->-r requirements.txt (line 1)) (0.10.0)\n",
      "Requirement already satisfied: wheel>=0.26; python_version >= \"3\" in /usr/local/lib/python3.8/site-packages (from tensorboard==2.2.0->-r requirements.txt (line 1)) (0.34.2)\n",
      "Requirement already satisfied: setuptools>=41.0.0 in /usr/local/lib/python3.8/site-packages (from tensorboard==2.2.0->-r requirements.txt (line 1)) (49.2.0)\n",
      "Requirement already satisfied: grpcio>=1.24.3 in /Users/galrapo/Library/Python/3.8/lib/python/site-packages (from tensorboard==2.2.0->-r requirements.txt (line 1)) (1.31.0)\n",
      "Requirement already satisfied: protobuf>=3.6.0 in /Users/galrapo/Library/Python/3.8/lib/python/site-packages (from tensorboard==2.2.0->-r requirements.txt (line 1)) (3.13.0)\n",
      "Requirement already satisfied: markdown>=2.6.8 in /Users/galrapo/Library/Python/3.8/lib/python/site-packages (from tensorboard==2.2.0->-r requirements.txt (line 1)) (3.2.2)\n",
      "Requirement already satisfied: google-auth-oauthlib<0.5,>=0.4.1 in /Users/galrapo/Library/Python/3.8/lib/python/site-packages (from tensorboard==2.2.0->-r requirements.txt (line 1)) (0.4.1)\n",
      "Requirement already satisfied: idna<3,>=2.5 in /Users/galrapo/Library/Python/3.8/lib/python/site-packages (from requests<3,>=2.21.0->tensorboard==2.2.0->-r requirements.txt (line 1)) (2.7)\n",
      "Requirement already satisfied: urllib3!=1.25.0,!=1.25.1,<1.26,>=1.21.1 in /Users/galrapo/Library/Python/3.8/lib/python/site-packages (from requests<3,>=2.21.0->tensorboard==2.2.0->-r requirements.txt (line 1)) (1.24.3)\n",
      "Requirement already satisfied: certifi>=2017.4.17 in /Users/galrapo/Library/Python/3.8/lib/python/site-packages (from requests<3,>=2.21.0->tensorboard==2.2.0->-r requirements.txt (line 1)) (2020.6.20)\n",
      "Requirement already satisfied: chardet<4,>=3.0.2 in /Users/galrapo/Library/Python/3.8/lib/python/site-packages (from requests<3,>=2.21.0->tensorboard==2.2.0->-r requirements.txt (line 1)) (3.0.4)\n",
      "Requirement already satisfied: cachetools<5.0,>=2.0.0 in /Users/galrapo/Library/Python/3.8/lib/python/site-packages (from google-auth<2,>=1.6.3->tensorboard==2.2.0->-r requirements.txt (line 1)) (4.1.1)\n",
      "Requirement already satisfied: rsa<5,>=3.1.4; python_version >= \"3.5\" in /Users/galrapo/Library/Python/3.8/lib/python/site-packages (from google-auth<2,>=1.6.3->tensorboard==2.2.0->-r requirements.txt (line 1)) (4.6)\n",
      "Requirement already satisfied: pyasn1-modules>=0.2.1 in /Users/galrapo/Library/Python/3.8/lib/python/site-packages (from google-auth<2,>=1.6.3->tensorboard==2.2.0->-r requirements.txt (line 1)) (0.2.8)\n",
      "Requirement already satisfied: requests-oauthlib>=0.7.0 in /Users/galrapo/Library/Python/3.8/lib/python/site-packages (from google-auth-oauthlib<0.5,>=0.4.1->tensorboard==2.2.0->-r requirements.txt (line 1)) (1.3.0)\n",
      "Requirement already satisfied: pyasn1>=0.1.3 in /Users/galrapo/Library/Python/3.8/lib/python/site-packages (from rsa<5,>=3.1.4; python_version >= \"3.5\"->google-auth<2,>=1.6.3->tensorboard==2.2.0->-r requirements.txt (line 1)) (0.4.8)\n",
      "Requirement already satisfied: oauthlib>=3.0.0 in /Users/galrapo/Library/Python/3.8/lib/python/site-packages (from requests-oauthlib>=0.7.0->google-auth-oauthlib<0.5,>=0.4.1->tensorboard==2.2.0->-r requirements.txt (line 1)) (3.1.0)\n",
      "Building wheels for collected packages: numpy, pillow\n",
      "  Building wheel for numpy (setup.py) ... \u001b[?25l|^C\n",
      "\u001b[?25canceled\n",
      "\u001b[31mERROR: Operation cancelled by user\u001b[0m\n",
      "Requirement already satisfied: torch in /Users/galrapo/Library/Python/3.8/lib/python/site-packages (1.6.0)\n",
      "Requirement already satisfied: numpy in /Users/galrapo/Library/Python/3.8/lib/python/site-packages (from torch) (1.19.1)\n",
      "Requirement already satisfied: future in /Users/galrapo/Library/Python/3.8/lib/python/site-packages (from torch) (0.16.0)\n",
      "Requirement already satisfied: matplotlib in /Users/galrapo/Library/Python/3.8/lib/python/site-packages (3.3.1)\n",
      "Requirement already satisfied: pillow>=6.2.0 in /Users/galrapo/Library/Python/3.8/lib/python/site-packages (from matplotlib) (7.2.0)\n",
      "Requirement already satisfied: python-dateutil>=2.1 in /Users/galrapo/Library/Python/3.8/lib/python/site-packages (from matplotlib) (2.8.0)\n",
      "Requirement already satisfied: pyparsing!=2.0.4,!=2.1.2,!=2.1.6,>=2.0.3 in /Users/galrapo/Library/Python/3.8/lib/python/site-packages (from matplotlib) (2.4.7)\n",
      "Requirement already satisfied: numpy>=1.15 in /Users/galrapo/Library/Python/3.8/lib/python/site-packages (from matplotlib) (1.19.1)\n",
      "Requirement already satisfied: cycler>=0.10 in /Users/galrapo/Library/Python/3.8/lib/python/site-packages (from matplotlib) (0.10.0)\n",
      "Requirement already satisfied: kiwisolver>=1.0.1 in /Users/galrapo/Library/Python/3.8/lib/python/site-packages (from matplotlib) (1.2.0)\n",
      "Requirement already satisfied: certifi>=2020.06.20 in /Users/galrapo/Library/Python/3.8/lib/python/site-packages (from matplotlib) (2020.6.20)\n",
      "Requirement already satisfied: six>=1.5 in /Users/galrapo/Library/Python/3.8/lib/python/site-packages (from python-dateutil>=2.1->matplotlib) (1.11.0)\n"
     ]
    }
   ],
   "source": [
    "from argparse import Namespace\n",
    "!pip3 install -r requirements.txt --user\n",
    "!pip3 install torch --user\n",
    "!pip3 install matplotlib --user"
   ]
  },
  {
   "cell_type": "markdown",
   "metadata": {
    "pycharm": {
     "name": "#%% md\n"
    }
   },
   "source": [
    "and we import the required libs"
   ]
  },
  {
   "cell_type": "code",
   "execution_count": 9,
   "metadata": {
    "collapsed": false,
    "jupyter": {
     "outputs_hidden": false
    },
    "pycharm": {
     "name": "#%%\n"
    }
   },
   "outputs": [],
   "source": [
    "import numpy as np\n",
    "from torch import nn\n",
    "import torch\n",
    "import matplotlib.pyplot as plt"
   ]
  },
  {
   "cell_type": "markdown",
   "metadata": {
    "pycharm": {
     "name": "#%% md\n"
    }
   },
   "source": [
    "We will start with a simple demonstration of the normalization of the deconvolution.\n",
    "\n",
    "We define two deconvolutions layers:\n",
    " - one using nn.ConvTranspose2d implementation\n",
    " - one with our own implementation - NormConvTranspose2d\n",
    "\n",
    "We initialize both with the same weights and biases to be able to properly compare between them.\n",
    "We initialize with a flat value convolution and with bias 0."
   ]
  },
  {
   "cell_type": "code",
   "execution_count": 3,
   "metadata": {
    "collapsed": false,
    "jupyter": {
     "outputs_hidden": false
    },
    "pycharm": {
     "name": "#%%\n"
    }
   },
   "outputs": [
    {
     "data": {
      "text/plain": [
       "tensor([0., 0., 0.])"
      ]
     },
     "execution_count": 3,
     "metadata": {},
     "output_type": "execute_result"
    }
   ],
   "source": [
    "from core.model.NormConvTranspose2d import NormConvTranspose2d\n",
    "\n",
    "deconv = nn.ConvTranspose2d(3, 3, kernel_size=5, stride=4, padding=2, output_padding=3)\n",
    "norm_deconv = NormConvTranspose2d(3, 3, kernel_size=5, stride=4, padding=2, output_padding=3)\n",
    "\n",
    "deconv.weight.data.fill_(0.4)\n",
    "norm_deconv.weight.data.fill_(0.4)\n",
    "deconv.bias.data.fill_(0)\n",
    "norm_deconv.bias.data.fill_(0)\n"
   ]
  },
  {
   "cell_type": "markdown",
   "metadata": {
    "pycharm": {
     "name": "#%% md\n"
    }
   },
   "source": [
    "For the following experiment demonstration, the deconv will run over a 20x20x3 homogeneous color image.<br>"
   ]
  },
  {
   "cell_type": "code",
   "execution_count": 32,
   "metadata": {
    "collapsed": false,
    "jupyter": {
     "outputs_hidden": false
    },
    "pycharm": {
     "name": "#%%\n"
    }
   },
   "outputs": [
    {
     "data": {
      "text/plain": [
       "<matplotlib.image.AxesImage at 0x7fe15e7bfb90>"
      ]
     },
     "execution_count": 32,
     "metadata": {},
     "output_type": "execute_result"
    },
    {
     "data": {
      "image/png": "[encoded data removed]",
      "text/plain": [
       "<Figure size 432x288 with 1 Axes>"
      ]
     },
     "metadata": {},
     "output_type": "display_data"
    }
   ],
   "source": [
    "img = torch.zeros((1, 3,20,20))\n",
    "img[0][0] = 0.8\n",
    "img[0][1] = 0.5\n",
    "img[0][2] = 0.2\n",
    "\n",
    "plt.imshow(img.squeeze().permute(1, 2, 0))"
   ]
  },
  {
   "cell_type": "markdown",
   "metadata": {},
   "source": [
    "We would expect to demonstrate checkerboard artifacts in the nn.ConvTranspose2d one.<br>\n",
    "In our NormConvTranspose2d, we would expect to demonstrate mitigated artifacts."
   ]
  },
  {
   "cell_type": "code",
   "execution_count": 30,
   "metadata": {
    "collapsed": false,
    "jupyter": {
     "outputs_hidden": false
    },
    "pycharm": {
     "name": "#%%\n"
    }
   },
   "outputs": [
    {
     "name": "stderr",
     "output_type": "stream",
     "text": [
      "Clipping input data to the valid range for imshow with RGB data ([0..1] for floats or [0..255] for integers).\n"
     ]
    },
    {
     "data": {
      "image/png": "[encoded data removed]",
      "text/plain": [
       "<Figure size 720x504 with 2 Axes>"
      ]
     },
     "metadata": {},
     "output_type": "display_data"
    }
   ],
   "source": [
    "%matplotlib inline\n",
    "plt.style.use('seaborn-white')\n",
    "\n",
    "fig, ax = plt.subplots(1, 2, sharex='col', sharey='row', figsize=[10, 7])\n",
    "res_deconv = deconv(img)\n",
    "res_norm_deconv = norm_deconv(img)\n",
    "ax[0].imshow(res_deconv.squeeze().permute(1, 2, 0).detach())\n",
    "ax[0].title.set_text(\"ConvTranspose2d\")\n",
    "ax[1].imshow(res_norm_deconv.squeeze().permute(1, 2, 0).detach())\n",
    "ax[1].title.set_text(\"NormConvTranspose2d\")"
   ]
  },
  {
   "cell_type": "markdown",
   "metadata": {
    "pycharm": {
     "name": "#%% md\n"
    }
   },
   "source": [
    "One can easily, when comparing the results of ConvTranspose2d implementation with NormConvTranspose2d implementation that the checkerboard artifacts are mitigated.<br>\n",
    "This implies that notion of adding a normalization step is indeed beneficial.\n",
    "\n",
    "# EDSR Model\n",
    "\n",
    "We have implemented and trained the EDSR and WDSR models with Deconvolution and Normalized Deconvolution.<br>\n",
    "The results are also brought in the attached paper and the github repository.<br><br><br><br>\n",
    "## Results\n",
    "![Results](./images/result_examples.png)\n",
    "\n",
    "## Run the model\n",
    "The pretrained models are available on S3.<br>\n",
    "To run an evaluation test, please download an EDSR model file and place it in you local drive."
   ]
  },
  {
   "cell_type": "code",
   "execution_count": 6,
   "metadata": {
    "collapsed": false,
    "jupyter": {
     "outputs_hidden": false
    },
    "pycharm": {
     "name": "#%%\n"
    }
   },
   "outputs": [
    {
     "name": "stdout",
     "output_type": "stream",
     "text": [
      "/bin/sh: wget: command not found\n"
     ]
    }
   ],
   "source": [
    "!wget s3://deconv-pretrained/EDSR-Norm-Deconv-f128-b32-r4-x4-new-best.pth.tar .\n"
   ]
  },
  {
   "cell_type": "markdown",
   "metadata": {},
   "source": [
    "Then, run the following cell:"
   ]
  },
  {
   "cell_type": "code",
   "execution_count": 7,
   "metadata": {
    "collapsed": false,
    "jupyter": {
     "outputs_hidden": false
    },
    "pycharm": {
     "name": "#%%\n"
    }
   },
   "outputs": [
    {
     "ename": "FileNotFoundError",
     "evalue": "[Errno 2] No such file or directory: './EDSR-Norm-Deconv-f128-b32-r4-x4-new-best.pth.tar'",
     "output_type": "error",
     "traceback": [
      "\u001b[0;31m---------------------------------------------------------------------------\u001b[0m",
      "\u001b[0;31mFileNotFoundError\u001b[0m                         Traceback (most recent call last)",
      "\u001b[0;32m<ipython-input-7-8f591446b6ef>\u001b[0m in \u001b[0;36m<module>\u001b[0;34m\u001b[0m\n\u001b[1;32m     21\u001b[0m \u001b[0;34m\u001b[0m\u001b[0m\n\u001b[1;32m     22\u001b[0m \u001b[0;31m# Load weights\u001b[0m\u001b[0;34m\u001b[0m\u001b[0;34m\u001b[0m\u001b[0;34m\u001b[0m\u001b[0m\n\u001b[0;32m---> 23\u001b[0;31m \u001b[0mmodel\u001b[0m \u001b[0;34m=\u001b[0m \u001b[0mload_weights\u001b[0m\u001b[0;34m(\u001b[0m\u001b[0mmodel\u001b[0m\u001b[0;34m,\u001b[0m \u001b[0mload_checkpoint\u001b[0m\u001b[0;34m(\u001b[0m\u001b[0margs\u001b[0m\u001b[0;34m.\u001b[0m\u001b[0mcheckpoint_file\u001b[0m\u001b[0;34m)\u001b[0m\u001b[0;34m[\u001b[0m\u001b[0;34m'state_dict'\u001b[0m\u001b[0;34m]\u001b[0m\u001b[0;34m)\u001b[0m\u001b[0;34m\u001b[0m\u001b[0;34m\u001b[0m\u001b[0m\n\u001b[0m\u001b[1;32m     24\u001b[0m \u001b[0;34m\u001b[0m\u001b[0m\n\u001b[1;32m     25\u001b[0m \u001b[0;31m# Prepare dataset\u001b[0m\u001b[0;34m\u001b[0m\u001b[0;34m\u001b[0m\u001b[0;34m\u001b[0m\u001b[0m\n",
      "\u001b[0;32m~/Desktop/MSC/semester_2/deep_learning/final_project/NormDeconv/core/utils.py\u001b[0m in \u001b[0;36mload_checkpoint\u001b[0;34m(path)\u001b[0m\n\u001b[1;32m     53\u001b[0m \u001b[0;34m\u001b[0m\u001b[0m\n\u001b[1;32m     54\u001b[0m \u001b[0;32mdef\u001b[0m \u001b[0mload_checkpoint\u001b[0m\u001b[0;34m(\u001b[0m\u001b[0mpath\u001b[0m\u001b[0;34m)\u001b[0m\u001b[0;34m:\u001b[0m\u001b[0;34m\u001b[0m\u001b[0;34m\u001b[0m\u001b[0m\n\u001b[0;32m---> 55\u001b[0;31m     \u001b[0;32mreturn\u001b[0m \u001b[0mtorch\u001b[0m\u001b[0;34m.\u001b[0m\u001b[0mload\u001b[0m\u001b[0;34m(\u001b[0m\u001b[0mpath\u001b[0m\u001b[0;34m,\u001b[0m \u001b[0mmap_location\u001b[0m\u001b[0;34m=\u001b[0m\u001b[0;32mlambda\u001b[0m \u001b[0mstorage\u001b[0m\u001b[0;34m,\u001b[0m \u001b[0mloc\u001b[0m\u001b[0;34m:\u001b[0m \u001b[0mstorage\u001b[0m\u001b[0;34m)\u001b[0m\u001b[0;34m\u001b[0m\u001b[0;34m\u001b[0m\u001b[0m\n\u001b[0m\u001b[1;32m     56\u001b[0m \u001b[0;34m\u001b[0m\u001b[0m\n\u001b[1;32m     57\u001b[0m \u001b[0;34m\u001b[0m\u001b[0m\n",
      "\u001b[0;32m~/opt/anaconda3/envs/msc_dl_course/lib/python3.7/site-packages/torch/serialization.py\u001b[0m in \u001b[0;36mload\u001b[0;34m(f, map_location, pickle_module, **pickle_load_args)\u001b[0m\n\u001b[1;32m    523\u001b[0m         \u001b[0mpickle_load_args\u001b[0m\u001b[0;34m[\u001b[0m\u001b[0;34m'encoding'\u001b[0m\u001b[0;34m]\u001b[0m \u001b[0;34m=\u001b[0m \u001b[0;34m'utf-8'\u001b[0m\u001b[0;34m\u001b[0m\u001b[0;34m\u001b[0m\u001b[0m\n\u001b[1;32m    524\u001b[0m \u001b[0;34m\u001b[0m\u001b[0m\n\u001b[0;32m--> 525\u001b[0;31m     \u001b[0;32mwith\u001b[0m \u001b[0m_open_file_like\u001b[0m\u001b[0;34m(\u001b[0m\u001b[0mf\u001b[0m\u001b[0;34m,\u001b[0m \u001b[0;34m'rb'\u001b[0m\u001b[0;34m)\u001b[0m \u001b[0;32mas\u001b[0m \u001b[0mopened_file\u001b[0m\u001b[0;34m:\u001b[0m\u001b[0;34m\u001b[0m\u001b[0;34m\u001b[0m\u001b[0m\n\u001b[0m\u001b[1;32m    526\u001b[0m         \u001b[0;32mif\u001b[0m \u001b[0m_is_zipfile\u001b[0m\u001b[0;34m(\u001b[0m\u001b[0mopened_file\u001b[0m\u001b[0;34m)\u001b[0m\u001b[0;34m:\u001b[0m\u001b[0;34m\u001b[0m\u001b[0;34m\u001b[0m\u001b[0m\n\u001b[1;32m    527\u001b[0m             \u001b[0;32mwith\u001b[0m \u001b[0m_open_zipfile_reader\u001b[0m\u001b[0;34m(\u001b[0m\u001b[0mf\u001b[0m\u001b[0;34m)\u001b[0m \u001b[0;32mas\u001b[0m \u001b[0mopened_zipfile\u001b[0m\u001b[0;34m:\u001b[0m\u001b[0;34m\u001b[0m\u001b[0;34m\u001b[0m\u001b[0m\n",
      "\u001b[0;32m~/opt/anaconda3/envs/msc_dl_course/lib/python3.7/site-packages/torch/serialization.py\u001b[0m in \u001b[0;36m_open_file_like\u001b[0;34m(name_or_buffer, mode)\u001b[0m\n\u001b[1;32m    210\u001b[0m \u001b[0;32mdef\u001b[0m \u001b[0m_open_file_like\u001b[0m\u001b[0;34m(\u001b[0m\u001b[0mname_or_buffer\u001b[0m\u001b[0;34m,\u001b[0m \u001b[0mmode\u001b[0m\u001b[0;34m)\u001b[0m\u001b[0;34m:\u001b[0m\u001b[0;34m\u001b[0m\u001b[0;34m\u001b[0m\u001b[0m\n\u001b[1;32m    211\u001b[0m     \u001b[0;32mif\u001b[0m \u001b[0m_is_path\u001b[0m\u001b[0;34m(\u001b[0m\u001b[0mname_or_buffer\u001b[0m\u001b[0;34m)\u001b[0m\u001b[0;34m:\u001b[0m\u001b[0;34m\u001b[0m\u001b[0;34m\u001b[0m\u001b[0m\n\u001b[0;32m--> 212\u001b[0;31m         \u001b[0;32mreturn\u001b[0m \u001b[0m_open_file\u001b[0m\u001b[0;34m(\u001b[0m\u001b[0mname_or_buffer\u001b[0m\u001b[0;34m,\u001b[0m \u001b[0mmode\u001b[0m\u001b[0;34m)\u001b[0m\u001b[0;34m\u001b[0m\u001b[0;34m\u001b[0m\u001b[0m\n\u001b[0m\u001b[1;32m    213\u001b[0m     \u001b[0;32melse\u001b[0m\u001b[0;34m:\u001b[0m\u001b[0;34m\u001b[0m\u001b[0;34m\u001b[0m\u001b[0m\n\u001b[1;32m    214\u001b[0m         \u001b[0;32mif\u001b[0m \u001b[0;34m'w'\u001b[0m \u001b[0;32min\u001b[0m \u001b[0mmode\u001b[0m\u001b[0;34m:\u001b[0m\u001b[0;34m\u001b[0m\u001b[0;34m\u001b[0m\u001b[0m\n",
      "\u001b[0;32m~/opt/anaconda3/envs/msc_dl_course/lib/python3.7/site-packages/torch/serialization.py\u001b[0m in \u001b[0;36m__init__\u001b[0;34m(self, name, mode)\u001b[0m\n\u001b[1;32m    191\u001b[0m \u001b[0;32mclass\u001b[0m \u001b[0m_open_file\u001b[0m\u001b[0;34m(\u001b[0m\u001b[0m_opener\u001b[0m\u001b[0;34m)\u001b[0m\u001b[0;34m:\u001b[0m\u001b[0;34m\u001b[0m\u001b[0;34m\u001b[0m\u001b[0m\n\u001b[1;32m    192\u001b[0m     \u001b[0;32mdef\u001b[0m \u001b[0m__init__\u001b[0m\u001b[0;34m(\u001b[0m\u001b[0mself\u001b[0m\u001b[0;34m,\u001b[0m \u001b[0mname\u001b[0m\u001b[0;34m,\u001b[0m \u001b[0mmode\u001b[0m\u001b[0;34m)\u001b[0m\u001b[0;34m:\u001b[0m\u001b[0;34m\u001b[0m\u001b[0;34m\u001b[0m\u001b[0m\n\u001b[0;32m--> 193\u001b[0;31m         \u001b[0msuper\u001b[0m\u001b[0;34m(\u001b[0m\u001b[0m_open_file\u001b[0m\u001b[0;34m,\u001b[0m \u001b[0mself\u001b[0m\u001b[0;34m)\u001b[0m\u001b[0;34m.\u001b[0m\u001b[0m__init__\u001b[0m\u001b[0;34m(\u001b[0m\u001b[0mopen\u001b[0m\u001b[0;34m(\u001b[0m\u001b[0mname\u001b[0m\u001b[0;34m,\u001b[0m \u001b[0mmode\u001b[0m\u001b[0;34m)\u001b[0m\u001b[0;34m)\u001b[0m\u001b[0;34m\u001b[0m\u001b[0;34m\u001b[0m\u001b[0m\n\u001b[0m\u001b[1;32m    194\u001b[0m \u001b[0;34m\u001b[0m\u001b[0m\n\u001b[1;32m    195\u001b[0m     \u001b[0;32mdef\u001b[0m \u001b[0m__exit__\u001b[0m\u001b[0;34m(\u001b[0m\u001b[0mself\u001b[0m\u001b[0;34m,\u001b[0m \u001b[0;34m*\u001b[0m\u001b[0margs\u001b[0m\u001b[0;34m)\u001b[0m\u001b[0;34m:\u001b[0m\u001b[0;34m\u001b[0m\u001b[0;34m\u001b[0m\u001b[0m\n",
      "\u001b[0;31mFileNotFoundError\u001b[0m: [Errno 2] No such file or directory: './EDSR-Norm-Deconv-f128-b32-r4-x4-new-best.pth.tar'"
     ]
    }
   ],
   "source": [
    "from core.EDSR.edsr import EDSR\n",
    "from argparse import Namespace\n",
    "from eval import test\n",
    "from core.utils import *\n",
    "from core.data.dir_dataset import DirDataSet\n",
    "from torch.utils.data.dataloader import DataLoader\n",
    "\n",
    "\n",
    "args = Namespace(augment_patch=True, batch_size=16,\n",
    "                 checkpoint_file='./EDSR-Norm-Deconv-f128-b32-r4-x4-new-best.pth.tar',\n",
    "                 dataset_dir='data/div2k/', debug=False, deconv=True, epochs=300,\n",
    "                 expansion_ratio=4, iterations_per_epoch=1000, low_rank_ratio=0.8,\n",
    "                 lr=0.001, lr_decay_gamma=0.5, lr_decay_steps=200,\n",
    "                 model='EDSR-Norm-Deconv', n_feats=128, n_res_blocks=32, norm=True,\n",
    "                 num_workers=4, output_dir='images/results/',\n",
    "                 patch_size=96, res_scale=1.0, rgb_mean=[0.4488, 0.4371, 0.404],\n",
    "                 rgb_range=(0.0, 255.0), scale=4, seed=1, self_ensemble=False,\n",
    "                 subtract_mean=True)\n",
    "\n",
    "model = EDSR(args).to('cpu')\n",
    "\n",
    "# Load weights\n",
    "model = load_weights(model, load_checkpoint(args.checkpoint_file)['state_dict'])\n",
    "\n",
    "# Prepare dataset\n",
    "dataset = DirDataSet('images/sample')\n",
    "#dataset = DIV2K(args, train=False)\n",
    "dataloader = DataLoader(dataset=dataset, batch_size=1)\n",
    "\n",
    "test(dataset, dataloader, model, args, 'cpu')"
   ]
  },
  {
   "cell_type": "code",
   "execution_count": null,
   "metadata": {
    "collapsed": false,
    "jupyter": {
     "outputs_hidden": false
    },
    "pycharm": {
     "name": "#%%\n"
    }
   },
   "outputs": [],
   "source": []
  }
 ],
 "metadata": {
  "kernelspec": {
   "display_name": "Python 3",
   "language": "python",
   "name": "python3"
  },
  "language_info": {
   "codemirror_mode": {
    "name": "ipython",
    "version": 3
   },
   "file_extension": ".py",
   "mimetype": "text/x-python",
   "name": "python",
   "nbconvert_exporter": "python",
   "pygments_lexer": "ipython3",
   "version": "3.7.6"
  }
 },
 "nbformat": 4,
 "nbformat_minor": 4
}
